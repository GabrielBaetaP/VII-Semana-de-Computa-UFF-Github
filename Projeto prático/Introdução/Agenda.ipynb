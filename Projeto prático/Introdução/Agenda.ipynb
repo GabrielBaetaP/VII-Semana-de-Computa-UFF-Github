{
 "cells": [
  {
   "cell_type": "markdown",
   "metadata": {},
   "source": [
    "Implemente uma agenda de contatos em Python que pode ser feito em grupo de 2 a 5 pessoas para praticar o versionamento de código em equipe.\n",
    "\n",
    "Crie um repositório Git para o projeto e divida as tarefas entre os membros da equipe. Teste prático de como clonar o repositório, criar ramificações, realizar commits e mesclar as alterações. Também é importante definir um fluxo de trabalho claro, como quem será responsável por quais partes do código.\n",
    "\n",
    "Implementem uma agenda básica com as funcionalidade:\n",
    "\n",
    "- Adicionar contatos.\n",
    "- Listar contatos.\n",
    "- Buscar contatos.\n",
    "- Deletar contatos.\n",
    "- Menu iterativo das opções anteriores."
   ]
  },
  {
   "cell_type": "code",
   "execution_count": null,
   "metadata": {},
   "outputs": [],
   "source": [
    "pq=0\n",
    "ctt=[]\n",
    "num=[]\n",
    "while pq!='6':\n",
    "    pq=input('1-add/2-ver todos/3-buscar/4-deletar/5-rever o menu/6-finalizar')\n",
    "    ctt=[]\n",
    "    if pq=='1':\n",
    "        ctt.append(input('Qual o nome:'))\n",
    "        num.append(input('qual o numero:'))\n",
    "    elif pq ==\"2\":\n",
    "        if ctt!=[]:\n",
    "            for i in range(len(ctt))\n",
    "                print(f\"{ctt[i]} seu numero é {num[i]}\")\n",
    "        else:\n",
    "            print('vc não tem ctts')\n",
    "    elif pq=='3':\n",
    "        id1=ctt.index(input('qual o nome:'))\n",
    "        print(f'{ctt[id1]} e seu numero é {num[id1]}')\n",
    "    elif pq=='4':\n",
    "        id2=ctt.index(input('quem vc deseja deletar:'))\n",
    "        ctt.pop(id2)\n",
    "        num.pop(id2)\n",
    "    elif pq=='5':\n",
    "        pq=input('1-add/2-ver todos/3-buscar/4-deletar/5-rever o menu/6-finalizar')   \n",
    "else:\n",
    "    print('vc finalizou')   "
   ]
  }
 ],
 "metadata": {
  "language_info": {
   "name": "python"
  }
 },
 "nbformat": 4,
 "nbformat_minor": 2
}
