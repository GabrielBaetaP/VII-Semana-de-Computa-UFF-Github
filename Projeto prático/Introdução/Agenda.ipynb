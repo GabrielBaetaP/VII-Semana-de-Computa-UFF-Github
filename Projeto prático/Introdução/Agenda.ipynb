{
 "cells": [
  {
   "cell_type": "markdown",
   "metadata": {},
   "source": [
    "Implemente uma agenda de contatos em Python que pode ser feito em grupo de 2 a 5 pessoas para praticar o versionamento de código em equipe.\n",
    "\n",
    "Crie um repositório Git para o projeto e divida as tarefas entre os membros da equipe. Teste prático de como clonar o repositório, criar ramificações, realizar commits e mesclar as alterações. Também é importante definir um fluxo de trabalho claro, como quem será responsável por quais partes do código.\n",
    "\n",
    "Implementem uma agenda básica com as funcionalidade:\n",
    "\n",
    "- Adicionar contatos.\n",
    "- Listar contatos.\n",
    "- Buscar contatos.\n",
    "- Deletar contatos.\n",
    "- Menu iterativo das opções anteriores."
   ]
  },
  {
   "cell_type": "code",
   "execution_count": 4,
   "metadata": {},
   "outputs": [],
   "source": [
    "contatos = []\n",
    "numero = []"
   ]
  },
  {
   "cell_type": "code",
   "execution_count": 10,
   "metadata": {},
   "outputs": [
    {
     "name": "stdout",
     "output_type": "stream",
     "text": [
      "Gabriel 1\n",
      "Gabriel 123\n"
     ]
    }
   ],
   "source": [
    "a = int(input(\"Insira 1 para adicionar contatos, 2 para listar contatos, 3 para buscar contatos, 4 para deletar contatos: \"))\n",
    "\n",
    "\n",
    "if a == 1:\n",
    "    contatos.append(input(\"Insira o nome: \"))\n",
    "    numero.append(input(\"Insira o número: \"))\n",
    "\n",
    "elif a==2:\n",
    "    for q in range(len(contatos)):\n",
    "        print(contatos[q], numero[q])\n",
    "\n",
    "elif a==3:\n",
    "    pos = contatos.index(input(\"Insira o contato desejado: \"))\n",
    "    print(contatos[pos], numero[pos])\n",
    "\n",
    "elif a==4:\n",
    "    pos = contatos.index(input(\"Insira o contato desejado: \"))\n",
    "    contatos.pop(pos)\n",
    "    numero.pop(pos)\n",
    "\n",
    "\n",
    "\n"
   ]
  },
  {
   "cell_type": "code",
   "execution_count": null,
   "metadata": {},
   "outputs": [],
   "source": []
  },
  {
   "cell_type": "code",
   "execution_count": null,
   "metadata": {},
   "outputs": [],
   "source": []
  }
 ],
 "metadata": {
  "kernelspec": {
   "display_name": "Python 3",
   "language": "python",
   "name": "python3"
  },
  "language_info": {
   "codemirror_mode": {
    "name": "ipython",
    "version": 3
   },
   "file_extension": ".py",
   "mimetype": "text/x-python",
   "name": "python",
   "nbconvert_exporter": "python",
   "pygments_lexer": "ipython3",
   "version": "3.9.7"
  }
 },
 "nbformat": 4,
 "nbformat_minor": 2
}
